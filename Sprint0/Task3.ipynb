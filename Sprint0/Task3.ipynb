{
 "cells": [
  {
   "cell_type": "markdown",
   "metadata": {},
   "source": [
    "<h1 style=\"color:DodgerBlue\">Индивидальный проект</h1>"
   ]
  },
  {
   "cell_type": "markdown",
   "metadata": {},
   "source": [
    "<h2 style=\"color:DodgerBlue\">Название проекта: Создание класса PaymentMethod в C#</h2>\n",
    "\n",
    "\n",
    "\n",
    "### Вариант 15"
   ]
  },
  {
   "cell_type": "markdown",
   "metadata": {},
   "source": [
    "<h2 style=\"color:DodgerBlue\">Описание проекта:</h2>\n",
    "Описание задачи:\n",
    "Создать базовый класс OrderLine в C#, который будет представлять информацию о\n",
    "строке заказа, содержащей детали одного товара в заказе. На основе этого класса\n",
    "разработать 2-3 производных класса, демонстрирующих принципы наследования и\n",
    "полиморфизма. В каждом из классов должны быть реализованы новые атрибуты и\n",
    "методы, а также переопределены некоторые методы базового класса для\n",
    "демонстрации полиморфизма.\n",
    "\n",
    "Требования к базовому классу OrderLine:\n",
    "• Атрибуты: ID товара (ProductId), Название товара (ProductName), Цена\n",
    "товара (Price).\n",
    "\n",
    "• Методы:\n",
    "o CalculateTotal(): метод для расчета общей стоимости строки заказа.\n",
    "o UpdatePrice(decimal newPrice): метод для обновления цены товара в\n",
    "строке заказа.\n",
    "o GetProductDetails(): метод для получения деталей товара.\n",
    "\n",
    "Требования к производным классам:\n",
    "1. СтандартнаяСтрока (StandardLine): Должна содержать дополнительные\n",
    "атрибуты, такие как Количество единиц (Units). Метод CalculateTotal() должен\n",
    "быть переопределен для учета количества единиц при расчете общей\n",
    "стоимости.\n",
    "2. СпециальнаяСтрока (SpecialLine): Должна содержать дополнительные\n",
    "атрибуты, такие как Скидка (Discount). Метод UpdatePrice() должен быть\n",
    "переопределен для применения скидки к цене товара.\n",
    "3. БесплатнаяСтрока (FreeLine) (если требуется третий класс): Должна\n",
    "содержать дополнительные атрибуты, такие как Предварительный платеж\n",
    "(Prepayment). Метод CalculateTotal() должен быть переопределен для учета\n",
    "предварительного плата при расчете общей стоимости."
   ]
  },
  {
   "cell_type": "markdown",
   "metadata": {},
   "source": [
    "<h2 style=\"color:DodgerBlue\">Реализация:</h2>\n",
    "\n",
    "----"
   ]
  },
  {
   "cell_type": "code",
   "execution_count": 2,
   "metadata": {
    "dotnet_interactive": {
     "language": "csharp"
    },
    "polyglot_notebook": {
     "kernelName": "csharp"
    }
   },
   "outputs": [
    {
     "name": "stdout",
     "output_type": "stream",
     "text": [
      "Товар: Сок (ID: 1), Цена: ¤100.00\n",
      "Товар: Газировка (ID: 2), Цена: ¤200.00\n",
      "Товар: Чебупицца (ID: 3), Цена: ¤300.00\n",
      "\n",
      "Общая стоимость стандартной строки: ¤200.00\n",
      "Общая стоимость специальной строки: ¤200.00\n",
      "Общая стоимость бесплатной строки: ¤150.00\n",
      "\n",
      "Новая цена специальной строки: ¤162.00\n",
      "Общая стоимость специальной строки: ¤162.00\n"
     ]
    }
   ],
   "source": [
    "using System;\n",
    "\n",
    "public class OrderLine\n",
    "{\n",
    "  public int ProductId { get; set; }\n",
    "  public string ProductName { get; set; }\n",
    "  public decimal Price { get; set; }\n",
    "\n",
    "  public OrderLine(int productId, string productName, decimal price)\n",
    "  {\n",
    "    ProductId = productId;\n",
    "    ProductName = productName;\n",
    "    Price = price;\n",
    "  }\n",
    "\n",
    "  public virtual decimal CalculateTotal()\n",
    "  {\n",
    "    return Price;\n",
    "  }\n",
    "\n",
    "  public virtual void UpdatePrice(decimal newPrice)\n",
    "  {\n",
    "    Price = newPrice;\n",
    "  }\n",
    "\n",
    "  public string GetProductDetails()\n",
    "  {\n",
    "    return $\"Товар: {ProductName} (ID: {ProductId}), Цена: {Price:C}\";\n",
    "  }\n",
    "}\n",
    "\n",
    "public class StandardLine : OrderLine\n",
    "{\n",
    "  public int Units { get; set; }\n",
    "\n",
    "  public StandardLine(int productId, string productName, decimal price, int units) : base(productId, productName, price)\n",
    "  {\n",
    "    Units = units;\n",
    "  }\n",
    "\n",
    "  public override decimal CalculateTotal()\n",
    "  {\n",
    "    return Price * Units;\n",
    "  }\n",
    "}\n",
    "\n",
    "public class SpecialLine : OrderLine\n",
    "{\n",
    "  public decimal Discount { get; set; }\n",
    "\n",
    "  public SpecialLine(int productId, string productName, decimal price, decimal discount) : base(productId, productName, price)\n",
    "  {\n",
    "    Discount = discount;\n",
    "  }\n",
    "\n",
    "  public override void UpdatePrice(decimal newPrice)\n",
    "  {\n",
    "    Price = newPrice * (1 - Discount);\n",
    "  }\n",
    "}\n",
    "\n",
    "public class FreeLine : OrderLine\n",
    "{\n",
    "  public decimal Prepayment { get; set; }\n",
    "\n",
    "  public FreeLine(int productId, string productName, decimal price, decimal prepayment) : base(productId, productName, price)\n",
    "  {\n",
    "    Prepayment = prepayment;\n",
    "  }\n",
    "\n",
    "  public override decimal CalculateTotal()\n",
    "  {\n",
    "    return Prepayment;\n",
    "  }\n",
    "}\n",
    "\n",
    "    // Создание экземпляров классов\n",
    "    OrderLine standardLine = new StandardLine(1, \"Сок\", 100, 2);\n",
    "    OrderLine specialLine = new SpecialLine(2, \"Газировка\", 200, 0.1m);\n",
    "    OrderLine freeLine = new FreeLine(3, \"Чебупицца\", 300, 150);\n",
    "\n",
    "    // Вывод деталей товаров\n",
    "    Console.WriteLine(standardLine.GetProductDetails());\n",
    "    Console.WriteLine(specialLine.GetProductDetails());\n",
    "    Console.WriteLine(freeLine.GetProductDetails());\n",
    "\n",
    "    // Расчет общей стоимости\n",
    "    Console.WriteLine($\"\\nОбщая стоимость стандартной строки: {standardLine.CalculateTotal():C}\");\n",
    "    Console.WriteLine($\"Общая стоимость специальной строки: {specialLine.CalculateTotal():C}\");\n",
    "    Console.WriteLine($\"Общая стоимость бесплатной строки: {freeLine.CalculateTotal():C}\");\n",
    "\n",
    "    // Обновление цены специальной строки\n",
    "    specialLine.UpdatePrice(180);\n",
    "    Console.WriteLine($\"\\nНовая цена специальной строки: {specialLine.Price:C}\");\n",
    "    Console.WriteLine($\"Общая стоимость специальной строки: {specialLine.CalculateTotal():C}\");\n",
    "  "
   ]
  }
 ],
 "metadata": {
  "kernelspec": {
   "display_name": ".NET (C#)",
   "language": "C#",
   "name": ".net-csharp"
  },
  "polyglot_notebook": {
   "kernelInfo": {
    "defaultKernelName": "csharp",
    "items": [
     {
      "aliases": [],
      "languageName": "csharp",
      "name": "csharp"
     }
    ]
   }
  }
 },
 "nbformat": 4,
 "nbformat_minor": 2
}
