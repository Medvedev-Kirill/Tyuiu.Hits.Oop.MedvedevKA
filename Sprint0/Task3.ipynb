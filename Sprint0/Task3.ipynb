{
 "cells": [
  {
   "cell_type": "markdown",
   "metadata": {},
   "source": [
    "<h1 style=\"color:DodgerBlue\">Индивидальный проект</h1>"
   ]
  },
  {
   "cell_type": "markdown",
   "metadata": {},
   "source": [
    "<h2 style=\"color:DodgerBlue\">Название проекта: Создание класса PaymentMethod в C#</h2>\n",
    "\n",
    "\n",
    "\n",
    "### Вариант 16"
   ]
  },
  {
   "cell_type": "markdown",
   "metadata": {},
   "source": [
    "<h2 style=\"color:DodgerBlue\">Описание проекта:</h2>\n",
    "Описание задачи:\n",
    "Создать базовый класс PaymentMethod в C#, который будет представлять\n",
    "различные способы оплаты. На основе этого класса разработать 2-3 производных\n",
    "класса, демонстрирующих принципы наследования и полиморфизма. В каждом из\n",
    "классов должны быть реализованы новые атрибуты и методы, а также\n",
    "переопределены некоторые методы базового класса для демонстрации\n",
    "полиморфизма.\n",
    "\n",
    "Требования к базовому классу PaymentMethod:\n",
    "• Атрибуты: ID способа оплаты (PaymentMethodId), Название способа оплаты\n",
    "(MethodName), Минимальная сумма (MinAmount).\n",
    "• Методы:\n",
    "o ProcessPayment(decimal amount): метод для обработки платежа\n",
    "указанной суммы.\n",
    "o CheckMinimumAmount(decimal amount): метод для проверки\n",
    "минимальной суммы платежа.\n",
    "o GetPaymentDetails(): метод для получения деталей способа оплаты.\n",
    "\n",
    "Требования к производным классам:\n",
    "1. ОнлайнОплата (OnlinePayment): Должен содержать дополнительные\n",
    "атрибуты, такие как URL платежной системы (PaymentUrl).\n",
    "Метод ProcessPayment() должен быть переопределен для включения URL\n",
    "платежной системы в процесс оплаты.\n",
    "2. БанковскийПеревод (BankTransfer): Должен содержать дополнительные\n",
    "атрибуты, такие как Банковские данные (BankData).\n",
    "Метод CheckMinimumAmount() должен быть переопределен для проверки\n",
    "минимальной суммы платежа с учетом банковских комиссий.\n",
    "3. Наличные (CashPayment) (если требуется третий класс): Должен содержать\n",
    "дополнительные атрибуты, такие как Место выдачи наличных\n",
    "(CashPickupPoint). Метод GetPaymentDetails() должен быть переопределен\n",
    "для отображения места выдачи наличных."
   ]
  },
  {
   "cell_type": "markdown",
   "metadata": {},
   "source": [
    "<h2 style=\"color:DodgerBlue\">Реализация:</h2>\n",
    "\n",
    "----"
   ]
  },
  {
   "cell_type": "code",
   "execution_count": 2,
   "metadata": {
    "dotnet_interactive": {
     "language": "csharp"
    },
    "polyglot_notebook": {
     "kernelName": "csharp"
    }
   },
   "outputs": [
    {
     "name": "stdout",
     "output_type": "stream",
     "text": [
      "Обработка платежа 300 для Онлайн оплата через https://example.payment.com\n",
      "Способ оплаты: Онлайн оплата, Минимальная сумма: 50\n",
      "Обработка платежа 1000 для Банковский перевод\n",
      "Способ оплаты: Банковский перевод, Минимальная сумма: 500\n",
      "Способ оплаты: Наличные, Минимальная сумма: 100, Место выдачи наличных: Офис компании\n"
     ]
    }
   ],
   "source": [
    "using System;\n",
    "\n",
    "// Базовый класс PaymentMethod\n",
    "public class PaymentMethod\n",
    "{\n",
    "    public int PaymentMethodId { get; set; }\n",
    "    public string MethodName { get; set; }\n",
    "    public decimal MinAmount { get; set; }\n",
    "\n",
    "    public PaymentMethod(int paymentMethodId, string methodName, decimal minAmount)\n",
    "    {\n",
    "        PaymentMethodId = paymentMethodId;\n",
    "        MethodName = methodName;\n",
    "        MinAmount = minAmount;\n",
    "    }\n",
    "\n",
    "    // Метод для обработки платежа\n",
    "    public virtual void ProcessPayment(decimal amount)\n",
    "    {\n",
    "        Console.WriteLine($\"Обработка платежа {amount} для {MethodName}\");\n",
    "    }\n",
    "\n",
    "    // Метод для проверки минимальной суммы платежа\n",
    "    public virtual bool CheckMinimumAmount(decimal amount)\n",
    "    {\n",
    "        if (amount < MinAmount)\n",
    "        {\n",
    "            Console.WriteLine($\"Минимальная сумма платежа {MinAmount}\");\n",
    "            return false;\n",
    "        }\n",
    "        return true;\n",
    "    }\n",
    "\n",
    "    // Метод для получения деталей способа оплаты\n",
    "    public virtual string GetPaymentDetails()\n",
    "    {\n",
    "        return $\"Способ оплаты: {MethodName}, Минимальная сумма: {MinAmount}\";\n",
    "    }\n",
    "}\n",
    "\n",
    "// Производный класс ОнлайнОплата\n",
    "public class OnlinePayment : PaymentMethod\n",
    "{\n",
    "    public string PaymentUrl { get; set; }\n",
    "\n",
    "    public OnlinePayment(int paymentMethodId, string methodName, decimal minAmount, string paymentUrl) \n",
    "        : base(paymentMethodId, methodName, minAmount)\n",
    "    {\n",
    "        PaymentUrl = paymentUrl;\n",
    "    }\n",
    "\n",
    "    // Переопределенный метод ProcessPayment()\n",
    "    public override void ProcessPayment(decimal amount)\n",
    "    {\n",
    "        Console.WriteLine($\"Обработка платежа {amount} для {MethodName} через {PaymentUrl}\");\n",
    "    }\n",
    "}\n",
    "\n",
    "// Производный класс БанковскийПеревод\n",
    "public class BankTransfer : PaymentMethod\n",
    "{\n",
    "    public string BankData { get; set; }\n",
    "    private decimal BankFee { get; set; }\n",
    "\n",
    "    public BankTransfer(int paymentMethodId, string methodName, decimal minAmount, string bankData, decimal bankFee)\n",
    "        : base(paymentMethodId, methodName, minAmount)\n",
    "    {\n",
    "        BankData = bankData;\n",
    "        BankFee = bankFee;\n",
    "    }\n",
    "\n",
    "    // Переопределенный метод CheckMinimumAmount()\n",
    "    public override bool CheckMinimumAmount(decimal amount)\n",
    "    {\n",
    "        if (amount < MinAmount + BankFee)\n",
    "        {\n",
    "            Console.WriteLine($\"Минимальная сумма платежа с комиссией {MinAmount + BankFee}\");\n",
    "            return false;\n",
    "        }\n",
    "        return true;\n",
    "    }\n",
    "}\n",
    "\n",
    "// Производный класс Наличные\n",
    "public class CashPayment : PaymentMethod\n",
    "{\n",
    "    public string CashPickupPoint { get; set; }\n",
    "\n",
    "    public CashPayment(int paymentMethodId, string methodName, decimal minAmount, string cashPickupPoint)\n",
    "        : base(paymentMethodId, methodName, minAmount)\n",
    "    {\n",
    "        CashPickupPoint = cashPickupPoint;\n",
    "    }\n",
    "\n",
    "    // Переопределенный метод GetPaymentDetails()\n",
    "    public override string GetPaymentDetails()\n",
    "    {\n",
    "        return $\"Способ оплаты: {MethodName}, Минимальная сумма: {MinAmount}, Место выдачи наличных: {CashPickupPoint}\";\n",
    "    }\n",
    "}\n",
    "\n",
    "// ОнлайнОплата\n",
    "OnlinePayment onlinePayment = new OnlinePayment(1, \"Онлайн оплата\", 50, \"https://example.payment.com\");\n",
    "onlinePayment.ProcessPayment(300);\n",
    "Console.WriteLine(onlinePayment.GetPaymentDetails());\n",
    "\n",
    " // БанковскийПеревод\n",
    " BankTransfer bankTransfer = new BankTransfer(2, \"Банковский перевод\", 500, \"Реквизиты: 0987654321\", 10);\n",
    "if (bankTransfer.CheckMinimumAmount(1000))\n",
    "{\n",
    "    bankTransfer.ProcessPayment(1000);\n",
    "}\n",
    "Console.WriteLine(bankTransfer.GetPaymentDetails());\n",
    "\n",
    "// Наличные\n",
    " CashPayment cashPayment = new CashPayment(3, \"Наличные\", 100, \"Офис компании\");\n",
    " Console.WriteLine(cashPayment.GetPaymentDetails());"
   ]
  }
 ],
 "metadata": {
  "kernelspec": {
   "display_name": ".NET (C#)",
   "language": "C#",
   "name": ".net-csharp"
  },
  "polyglot_notebook": {
   "kernelInfo": {
    "defaultKernelName": "csharp",
    "items": [
     {
      "aliases": [],
      "languageName": "csharp",
      "name": "csharp"
     }
    ]
   }
  }
 },
 "nbformat": 4,
 "nbformat_minor": 2
}
