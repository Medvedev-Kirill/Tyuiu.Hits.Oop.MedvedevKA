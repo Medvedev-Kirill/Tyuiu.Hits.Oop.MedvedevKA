{
 "cells": [
  {
   "cell_type": "markdown",
   "metadata": {},
   "source": [
    "<h1 style=\"color:DodgerBlue\">Индивидальный проект</h1>"
   ]
  },
  {
   "cell_type": "markdown",
   "metadata": {},
   "source": [
    "<h2 style=\"color:DodgerBlue\">Название проекта: Создание класса PaymentMethod в C#</h2>\n",
    "\n",
    "\n",
    "\n",
    "### Вариант 15"
   ]
  },
  {
   "cell_type": "markdown",
   "metadata": {},
   "source": [
    "<h2 style=\"color:DodgerBlue\">Описание проекта:</h2>\n",
    "Описание задачи:\n",
    "Создать базовый класс OrderLine в C#, который будет представлять информацию о\n",
    "строке заказа, содержащей детали одного товара в заказе. На основе этого класса\n",
    "разработать 2-3 производных класса, демонстрирующих принципы наследования и\n",
    "полиморфизма. В каждом из классов должны быть реализованы новые атрибуты и\n",
    "методы, а также переопределены некоторые методы базового класса для\n",
    "демонстрации полиморфизма.\n",
    "\n",
    "Требования к базовому классу OrderLine:\n",
    "• Атрибуты: ID товара (ProductId), Название товара (ProductName), Цена\n",
    "товара (Price).\n",
    "\n",
    "• Методы:\n",
    "o CalculateTotal(): метод для расчета общей стоимости строки заказа.\n",
    "o UpdatePrice(decimal newPrice): метод для обновления цены товара в\n",
    "строке заказа.\n",
    "o GetProductDetails(): метод для получения деталей товара.\n",
    "\n",
    "Требования к производным классам:\n",
    "1. СтандартнаяСтрока (StandardLine): Должна содержать дополнительные\n",
    "атрибуты, такие как Количество единиц (Units). Метод CalculateTotal() должен\n",
    "быть переопределен для учета количества единиц при расчете общей\n",
    "стоимости.\n",
    "2. СпециальнаяСтрока (SpecialLine): Должна содержать дополнительные\n",
    "атрибуты, такие как Скидка (Discount). Метод UpdatePrice() должен быть\n",
    "переопределен для применения скидки к цене товара.\n",
    "3. БесплатнаяСтрока (FreeLine) (если требуется третий класс): Должна\n",
    "содержать дополнительные атрибуты, такие как Предварительный платеж\n",
    "(Prepayment). Метод CalculateTotal() должен быть переопределен для учета\n",
    "предварительного плата при расчете общей стоимости."
   ]
  },
  {
   "cell_type": "markdown",
   "metadata": {},
   "source": [
    "<h2 style=\"color:DodgerBlue\">Реализация:</h2>\n",
    "\n",
    "----"
   ]
  },
  {
   "cell_type": "code",
   "execution_count": 2,
   "metadata": {
    "dotnet_interactive": {
     "language": "csharp"
    },
    "polyglot_notebook": {
     "kernelName": "csharp"
    }
   },
   "outputs": [
    {
     "name": "stdout",
     "output_type": "stream",
     "text": [
      "Обработка платежа 300 для Онлайн оплата через https://payment.example.com\n",
      "Способ оплаты: Онлайн оплата, Минимальная сумма: 50\n",
      "Обработка платежа 1000 для Банковский перевод\n",
      "Способ оплаты: Банковский перевод, Минимальная сумма: 500\n",
      "Способ оплаты: Наличные, Минимальная сумма: 100, Место выдачи наличных: Офис компании\n"
     ]
    }
   ],
   "source": [
    "using System;\n",
    "\n",
    "// Базовый класс PaymentMethod\n",
    "public class PaymentMethod\n",
    "{\n",
    "    public int PaymentMethodId { get; set; }\n",
    "    public string MethodName { get; set; }\n",
    "    public decimal MinAmount { get; set; }\n",
    "\n",
    "    public PaymentMethod(int paymentMethodId, string methodName, decimal minAmount)\n",
    "    {\n",
    "        PaymentMethodId = paymentMethodId;\n",
    "        MethodName = methodName;\n",
    "        MinAmount = minAmount;\n",
    "    }\n",
    "\n",
    "    // Метод для обработки платежа\n",
    "    public virtual void ProcessPayment(decimal amount)\n",
    "    {\n",
    "        Console.WriteLine($\"Обработка платежа {amount} для {MethodName}\");\n",
    "    }\n",
    "\n",
    "    // Метод для проверки минимальной суммы платежа\n",
    "    public virtual bool CheckMinimumAmount(decimal amount)\n",
    "    {\n",
    "        if (amount < MinAmount)\n",
    "        {\n",
    "            Console.WriteLine($\"Минимальная сумма платежа {MinAmount}\");\n",
    "            return false;\n",
    "        }\n",
    "        return true;\n",
    "    }\n",
    "\n",
    "    // Метод для получения деталей способа оплаты\n",
    "    public virtual string GetPaymentDetails()\n",
    "    {\n",
    "        return $\"Способ оплаты: {MethodName}, Минимальная сумма: {MinAmount}\";\n",
    "    }\n",
    "}\n",
    "\n",
    "// Производный класс ОнлайнОплата\n",
    "public class OnlinePayment : PaymentMethod\n",
    "{\n",
    "    public string PaymentUrl { get; set; }\n",
    "\n",
    "    public OnlinePayment(int paymentMethodId, string methodName, decimal minAmount, string paymentUrl) \n",
    "        : base(paymentMethodId, methodName, minAmount)\n",
    "    {\n",
    "        PaymentUrl = paymentUrl;\n",
    "    }\n",
    "\n",
    "    // Переопределенный метод ProcessPayment()\n",
    "    public override void ProcessPayment(decimal amount)\n",
    "    {\n",
    "        Console.WriteLine($\"Обработка платежа {amount} для {MethodName} через {PaymentUrl}\");\n",
    "    }\n",
    "}\n",
    "\n",
    "// Производный класс БанковскийПеревод\n",
    "public class BankTransfer : PaymentMethod\n",
    "{\n",
    "    public string BankData { get; set; }\n",
    "    private decimal BankFee { get; set; }\n",
    "\n",
    "    public BankTransfer(int paymentMethodId, string methodName, decimal minAmount, string bankData, decimal bankFee)\n",
    "        : base(paymentMethodId, methodName, minAmount)\n",
    "    {\n",
    "        BankData = bankData;\n",
    "        BankFee = bankFee;\n",
    "    }\n",
    "\n",
    "    // Переопределенный метод CheckMinimumAmount()\n",
    "    public override bool CheckMinimumAmount(decimal amount)\n",
    "    {\n",
    "        if (amount < MinAmount + BankFee)\n",
    "        {\n",
    "            Console.WriteLine($\"Минимальная сумма платежа с комиссией {MinAmount + BankFee}\");\n",
    "            return false;\n",
    "        }\n",
    "        return true;\n",
    "    }\n",
    "}\n",
    "\n",
    "// Производный класс Наличные\n",
    "public class CashPayment : PaymentMethod\n",
    "{\n",
    "    public string CashPickupPoint { get; set; }\n",
    "\n",
    "    public CashPayment(int paymentMethodId, string methodName, decimal minAmount, string cashPickupPoint)\n",
    "        : base(paymentMethodId, methodName, minAmount)\n",
    "    {\n",
    "        CashPickupPoint = cashPickupPoint;\n",
    "    }\n",
    "\n",
    "    // Переопределенный метод GetPaymentDetails()\n",
    "    public override string GetPaymentDetails()\n",
    "    {\n",
    "        return $\"Способ оплаты: {MethodName}, Минимальная сумма: {MinAmount}, Место выдачи наличных: {CashPickupPoint}\";\n",
    "    }\n",
    "}\n",
    "// ОнлайнОплата\n",
    "var onlinePayment = new OnlinePayment(1, \"Онлайн оплата\", 50, \"https://example.payment.com\");\n",
    "onlinePayment.ProcessPayment(300);\n",
    "Console.WriteLine(onlinePayment.GetPaymentDetails());\n",
    "\n",
    "// БанковскийПеревод\n",
    "var bankTransfer = new BankTransfer(2, \"Банковский перевод\", 500, \"Реквизиты: 0987654321\", 10);\n",
    "if (bankTransfer.CheckMinimumAmount(1000))\n",
    "{\n",
    "bankTransfer.ProcessPayment(1000);\n",
    "}\n",
    "Console.WriteLine(bankTransfer.GetPaymentDetails());\n",
    "\n",
    "// Наличные\n",
    "var cashPayment = new CashPayment(3, \"Наличные\", 100, \"Офис компании\");\n",
    "Console.WriteLine(cashPayment.GetPaymentDetails());\n",
    "    "
   ]
  }
 ],
 "metadata": {
  "kernelspec": {
   "display_name": ".NET (C#)",
   "language": "C#",
   "name": ".net-csharp"
  },
  "polyglot_notebook": {
   "kernelInfo": {
    "defaultKernelName": "csharp",
    "items": [
     {
      "aliases": [],
      "languageName": "csharp",
      "name": "csharp"
     }
    ]
   }
  }
 },
 "nbformat": 4,
 "nbformat_minor": 2
}
